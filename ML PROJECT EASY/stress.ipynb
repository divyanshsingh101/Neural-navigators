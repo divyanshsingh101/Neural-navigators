{
 "cells": [
  {
   "cell_type": "code",
   "execution_count": 1,
   "metadata": {
    "id": "S3OdqVLK21f3"
   },
   "outputs": [],
   "source": [
    "import tensorflow as tf\n",
    "import sklearn\n",
    "import pandas as pd\n",
    "import numpy as np\n",
    "import matplotlib.pyplot as plt\n",
    "from tensorflow import keras"
   ]
  },
  {
   "cell_type": "code",
   "execution_count": 59,
   "metadata": {
    "colab": {
     "base_uri": "https://localhost:8080/",
     "height": 206
    },
    "id": "z2NNMhQF3kZ0",
    "outputId": "636e453e-4c4d-4c6f-96cc-e16e89c2f9db"
   },
   "outputs": [
    {
     "data": {
      "text/html": [
       "<div>\n",
       "<style scoped>\n",
       "    .dataframe tbody tr th:only-of-type {\n",
       "        vertical-align: middle;\n",
       "    }\n",
       "\n",
       "    .dataframe tbody tr th {\n",
       "        vertical-align: top;\n",
       "    }\n",
       "\n",
       "    .dataframe thead th {\n",
       "        text-align: right;\n",
       "    }\n",
       "</style>\n",
       "<table border=\"1\" class=\"dataframe\">\n",
       "  <thead>\n",
       "    <tr style=\"text-align: right;\">\n",
       "      <th></th>\n",
       "      <th>Humidity</th>\n",
       "      <th>Temperature</th>\n",
       "      <th>Step count</th>\n",
       "      <th>Stress Level</th>\n",
       "    </tr>\n",
       "  </thead>\n",
       "  <tbody>\n",
       "    <tr>\n",
       "      <th>0</th>\n",
       "      <td>21.33</td>\n",
       "      <td>90.33</td>\n",
       "      <td>123</td>\n",
       "      <td>1</td>\n",
       "    </tr>\n",
       "    <tr>\n",
       "      <th>1</th>\n",
       "      <td>21.41</td>\n",
       "      <td>90.41</td>\n",
       "      <td>93</td>\n",
       "      <td>1</td>\n",
       "    </tr>\n",
       "    <tr>\n",
       "      <th>2</th>\n",
       "      <td>27.12</td>\n",
       "      <td>96.12</td>\n",
       "      <td>196</td>\n",
       "      <td>2</td>\n",
       "    </tr>\n",
       "    <tr>\n",
       "      <th>3</th>\n",
       "      <td>27.64</td>\n",
       "      <td>96.64</td>\n",
       "      <td>177</td>\n",
       "      <td>2</td>\n",
       "    </tr>\n",
       "    <tr>\n",
       "      <th>4</th>\n",
       "      <td>10.87</td>\n",
       "      <td>79.87</td>\n",
       "      <td>87</td>\n",
       "      <td>0</td>\n",
       "    </tr>\n",
       "  </tbody>\n",
       "</table>\n",
       "</div>"
      ],
      "text/plain": [
       "   Humidity  Temperature  Step count  Stress Level\n",
       "0     21.33        90.33         123             1\n",
       "1     21.41        90.41          93             1\n",
       "2     27.12        96.12         196             2\n",
       "3     27.64        96.64         177             2\n",
       "4     10.87        79.87          87             0"
      ]
     },
     "execution_count": 59,
     "metadata": {},
     "output_type": "execute_result"
    }
   ],
   "source": [
    "dataset=pd.read_csv('Stress-Lysis.csv')\n",
    "dataset.head()\n"
   ]
  },
  {
   "cell_type": "code",
   "execution_count": 60,
   "metadata": {
    "colab": {
     "base_uri": "https://localhost:8080/"
    },
    "id": "Fct4Sl_83qIR",
    "outputId": "4c9468c4-738e-4618-d933-c57eabbda88b"
   },
   "outputs": [
    {
     "data": {
      "text/plain": [
       "(2001, 3)"
      ]
     },
     "execution_count": 60,
     "metadata": {},
     "output_type": "execute_result"
    }
   ],
   "source": [
    "X=dataset.iloc[:,0:3]\n",
    "Y=dataset['Stress Level']\n",
    "Y=pd.get_dummies(Y)\n",
    "X\n",
    "np.shape(Y)\n",
    "np.shape(X)\n"
   ]
  },
  {
   "cell_type": "code",
   "execution_count": 61,
   "metadata": {
    "id": "A878iHyV44cl"
   },
   "outputs": [],
   "source": [
    "from sklearn.preprocessing import StandardScaler\n",
    "from sklearn.model_selection import train_test_split"
   ]
  },
  {
   "cell_type": "code",
   "execution_count": 62,
   "metadata": {
    "id": "NLc4QuPC658i"
   },
   "outputs": [],
   "source": [
    "X_train,X_test, y_train, y_test = train_test_split( X, Y, test_size=0.2, random_state=42)"
   ]
  },
  {
   "cell_type": "code",
   "execution_count": 63,
   "metadata": {
    "colab": {
     "base_uri": "https://localhost:8080/"
    },
    "id": "32ScLd_J69Ot",
    "outputId": "33c0347a-1c36-4610-9ba7-56bd3efa7b87"
   },
   "outputs": [
    {
     "data": {
      "text/plain": [
       "array([[ 0.94885202,  0.94885202,  1.21447258],\n",
       "       [-1.22445778, -1.22445778, -1.46462944],\n",
       "       [-1.47169987, -1.47169987, -0.79485393],\n",
       "       ...,\n",
       "       [ 0.93847822,  0.93847822,  1.1114302 ],\n",
       "       [ 0.4716575 ,  0.4716575 ,  0.25274365],\n",
       "       [-1.21581295, -1.21581295, -1.37876078]])"
      ]
     },
     "execution_count": 63,
     "metadata": {},
     "output_type": "execute_result"
    }
   ],
   "source": [
    "sc=StandardScaler()\n",
    "X_train=sc.fit_transform(X_train)\n",
    "X_test=sc.transform(X_test)\n",
    "X_train\n"
   ]
  },
  {
   "cell_type": "code",
   "execution_count": 64,
   "metadata": {
    "colab": {
     "base_uri": "https://localhost:8080/"
    },
    "id": "Z7epSwPIedsO",
    "outputId": "885a4370-4ca5-4244-d152-a08314129da7"
   },
   "outputs": [
    {
     "data": {
      "text/plain": [
       "(1600, 3)"
      ]
     },
     "execution_count": 64,
     "metadata": {},
     "output_type": "execute_result"
    }
   ],
   "source": [
    "#y_train=keras.utils.to_categorical(y_train)\n",
    "#y_test=keras.utils.to_categorical(y_test)\n",
    "y_train\n",
    "np.shape(y_train)\n",
    "#np.shape(X_train)\n"
   ]
  },
  {
   "cell_type": "code",
   "execution_count": 65,
   "metadata": {
    "id": "-Ueh9Axs7AID"
   },
   "outputs": [],
   "source": [
    "from tensorflow.keras import layers\n",
    "from tensorflow.keras.layers import Dropout\n",
    "from tensorflow.keras.layers import  LeakyReLU,PReLU,ELU,ReLU\n",
    "from tensorflow.keras.models import Sequential\n",
    "from tensorflow.keras.layers import Dense\n"
   ]
  },
  {
   "cell_type": "code",
   "execution_count": 66,
   "metadata": {
    "id": "egys_LTG7JJY"
   },
   "outputs": [
    {
     "name": "stderr",
     "output_type": "stream",
     "text": [
      "C:\\Users\\Divyansh\\AppData\\Roaming\\Python\\Python311\\site-packages\\keras\\src\\layers\\core\\dense.py:85: UserWarning: Do not pass an `input_shape`/`input_dim` argument to a layer. When using Sequential models, prefer using an `Input(shape)` object as the first layer in the model instead.\n",
      "  super().__init__(activity_regularizer=activity_regularizer, **kwargs)\n"
     ]
    }
   ],
   "source": [
    "classifier=Sequential()\n",
    "classifier.add(Dense(units=150,activation='relu', kernel_initializer='he_normal',input_shape=(3,)))\n",
    "classifier.add(Dropout(0.5))\n",
    "classifier.add(Dense(units=110,kernel_initializer='he_normal',activation='relu'))\n",
    "classifier.add(Dense(units=80,kernel_initializer='he_normal',activation='relu'))\n",
    "classifier.add(Dense(units=45,kernel_initializer='he_normal',activation='relu'))\n",
    "classifier.add(Dense(3,activation='softmax'))\n",
    "classifier.compile(optimizer='adam',loss='categorical_crossentropy',metrics=['accuracy'])"
   ]
  },
  {
   "cell_type": "markdown",
   "metadata": {
    "id": "d8mLW0tahni8"
   },
   "source": []
  },
  {
   "cell_type": "code",
   "execution_count": 67,
   "metadata": {
    "colab": {
     "base_uri": "https://localhost:8080/",
     "height": 1000
    },
    "id": "YDDVwOIk7QzB",
    "outputId": "1ccb079c-3e53-49ae-d415-6344dd294dbf"
   },
   "outputs": [
    {
     "name": "stdout",
     "output_type": "stream",
     "text": [
      "Epoch 1/150\n",
      "\u001b[1m34/34\u001b[0m \u001b[32m━━━━━━━━━━━━━━━━━━━━\u001b[0m\u001b[37m\u001b[0m \u001b[1m2s\u001b[0m 7ms/step - accuracy: 0.5394 - loss: 1.0911 - val_accuracy: 0.7273 - val_loss: 0.4483\n",
      "Epoch 2/150\n",
      "\u001b[1m34/34\u001b[0m \u001b[32m━━━━━━━━━━━━━━━━━━━━\u001b[0m\u001b[37m\u001b[0m \u001b[1m0s\u001b[0m 2ms/step - accuracy: 0.7743 - loss: 0.4241 - val_accuracy: 0.7765 - val_loss: 0.4107\n",
      "Epoch 3/150\n",
      "\u001b[1m34/34\u001b[0m \u001b[32m━━━━━━━━━━━━━━━━━━━━\u001b[0m\u001b[37m\u001b[0m \u001b[1m0s\u001b[0m 3ms/step - accuracy: 0.8454 - loss: 0.3613 - val_accuracy: 0.8352 - val_loss: 0.3135\n",
      "Epoch 4/150\n",
      "\u001b[1m34/34\u001b[0m \u001b[32m━━━━━━━━━━━━━━━━━━━━\u001b[0m\u001b[37m\u001b[0m \u001b[1m0s\u001b[0m 3ms/step - accuracy: 0.8598 - loss: 0.3128 - val_accuracy: 0.8371 - val_loss: 0.3089\n",
      "Epoch 5/150\n",
      "\u001b[1m34/34\u001b[0m \u001b[32m━━━━━━━━━━━━━━━━━━━━\u001b[0m\u001b[37m\u001b[0m \u001b[1m0s\u001b[0m 3ms/step - accuracy: 0.8790 - loss: 0.2694 - val_accuracy: 0.8731 - val_loss: 0.2327\n",
      "Epoch 6/150\n",
      "\u001b[1m34/34\u001b[0m \u001b[32m━━━━━━━━━━━━━━━━━━━━\u001b[0m\u001b[37m\u001b[0m \u001b[1m0s\u001b[0m 3ms/step - accuracy: 0.9108 - loss: 0.2006 - val_accuracy: 0.8939 - val_loss: 0.2265\n",
      "Epoch 7/150\n",
      "\u001b[1m34/34\u001b[0m \u001b[32m━━━━━━━━━━━━━━━━━━━━\u001b[0m\u001b[37m\u001b[0m \u001b[1m0s\u001b[0m 2ms/step - accuracy: 0.9159 - loss: 0.1907 - val_accuracy: 0.9072 - val_loss: 0.1698\n",
      "Epoch 8/150\n",
      "\u001b[1m34/34\u001b[0m \u001b[32m━━━━━━━━━━━━━━━━━━━━\u001b[0m\u001b[37m\u001b[0m \u001b[1m0s\u001b[0m 2ms/step - accuracy: 0.9238 - loss: 0.1554 - val_accuracy: 0.9242 - val_loss: 0.1444\n",
      "Epoch 9/150\n",
      "\u001b[1m34/34\u001b[0m \u001b[32m━━━━━━━━━━━━━━━━━━━━\u001b[0m\u001b[37m\u001b[0m \u001b[1m0s\u001b[0m 3ms/step - accuracy: 0.9402 - loss: 0.1428 - val_accuracy: 0.9261 - val_loss: 0.1323\n",
      "Epoch 10/150\n",
      "\u001b[1m34/34\u001b[0m \u001b[32m━━━━━━━━━━━━━━━━━━━━\u001b[0m\u001b[37m\u001b[0m \u001b[1m0s\u001b[0m 2ms/step - accuracy: 0.9268 - loss: 0.1376 - val_accuracy: 0.9716 - val_loss: 0.1568\n",
      "Epoch 11/150\n",
      "\u001b[1m34/34\u001b[0m \u001b[32m━━━━━━━━━━━━━━━━━━━━\u001b[0m\u001b[37m\u001b[0m \u001b[1m0s\u001b[0m 2ms/step - accuracy: 0.9188 - loss: 0.1666 - val_accuracy: 0.9470 - val_loss: 0.1175\n",
      "Epoch 12/150\n",
      "\u001b[1m34/34\u001b[0m \u001b[32m━━━━━━━━━━━━━━━━━━━━\u001b[0m\u001b[37m\u001b[0m \u001b[1m0s\u001b[0m 2ms/step - accuracy: 0.9442 - loss: 0.1476 - val_accuracy: 0.9697 - val_loss: 0.1313\n",
      "Epoch 13/150\n",
      "\u001b[1m34/34\u001b[0m \u001b[32m━━━━━━━━━━━━━━━━━━━━\u001b[0m\u001b[37m\u001b[0m \u001b[1m0s\u001b[0m 2ms/step - accuracy: 0.9420 - loss: 0.1295 - val_accuracy: 0.9299 - val_loss: 0.1586\n",
      "Epoch 14/150\n",
      "\u001b[1m34/34\u001b[0m \u001b[32m━━━━━━━━━━━━━━━━━━━━\u001b[0m\u001b[37m\u001b[0m \u001b[1m0s\u001b[0m 3ms/step - accuracy: 0.9521 - loss: 0.1029 - val_accuracy: 0.9716 - val_loss: 0.1255\n",
      "Epoch 15/150\n",
      "\u001b[1m34/34\u001b[0m \u001b[32m━━━━━━━━━━━━━━━━━━━━\u001b[0m\u001b[37m\u001b[0m \u001b[1m0s\u001b[0m 2ms/step - accuracy: 0.9352 - loss: 0.1335 - val_accuracy: 0.9678 - val_loss: 0.0962\n",
      "Epoch 16/150\n",
      "\u001b[1m34/34\u001b[0m \u001b[32m━━━━━━━━━━━━━━━━━━━━\u001b[0m\u001b[37m\u001b[0m \u001b[1m0s\u001b[0m 3ms/step - accuracy: 0.9475 - loss: 0.1049 - val_accuracy: 0.8655 - val_loss: 0.2397\n",
      "Epoch 17/150\n",
      "\u001b[1m34/34\u001b[0m \u001b[32m━━━━━━━━━━━━━━━━━━━━\u001b[0m\u001b[37m\u001b[0m \u001b[1m0s\u001b[0m 2ms/step - accuracy: 0.9427 - loss: 0.1349 - val_accuracy: 0.9640 - val_loss: 0.0820\n",
      "Epoch 18/150\n",
      "\u001b[1m34/34\u001b[0m \u001b[32m━━━━━━━━━━━━━━━━━━━━\u001b[0m\u001b[37m\u001b[0m \u001b[1m0s\u001b[0m 2ms/step - accuracy: 0.9411 - loss: 0.1206 - val_accuracy: 0.9754 - val_loss: 0.0960\n",
      "Epoch 19/150\n",
      "\u001b[1m34/34\u001b[0m \u001b[32m━━━━━━━━━━━━━━━━━━━━\u001b[0m\u001b[37m\u001b[0m \u001b[1m0s\u001b[0m 2ms/step - accuracy: 0.9593 - loss: 0.0851 - val_accuracy: 0.9848 - val_loss: 0.0640\n",
      "Epoch 20/150\n",
      "\u001b[1m34/34\u001b[0m \u001b[32m━━━━━━━━━━━━━━━━━━━━\u001b[0m\u001b[37m\u001b[0m \u001b[1m0s\u001b[0m 2ms/step - accuracy: 0.9495 - loss: 0.1011 - val_accuracy: 0.9905 - val_loss: 0.0641\n",
      "Epoch 21/150\n",
      "\u001b[1m34/34\u001b[0m \u001b[32m━━━━━━━━━━━━━━━━━━━━\u001b[0m\u001b[37m\u001b[0m \u001b[1m0s\u001b[0m 2ms/step - accuracy: 0.9652 - loss: 0.0797 - val_accuracy: 0.9299 - val_loss: 0.1404\n",
      "Epoch 22/150\n",
      "\u001b[1m34/34\u001b[0m \u001b[32m━━━━━━━━━━━━━━━━━━━━\u001b[0m\u001b[37m\u001b[0m \u001b[1m0s\u001b[0m 2ms/step - accuracy: 0.9611 - loss: 0.0876 - val_accuracy: 0.9583 - val_loss: 0.0867\n",
      "Epoch 23/150\n",
      "\u001b[1m34/34\u001b[0m \u001b[32m━━━━━━━━━━━━━━━━━━━━\u001b[0m\u001b[37m\u001b[0m \u001b[1m0s\u001b[0m 2ms/step - accuracy: 0.9485 - loss: 0.0948 - val_accuracy: 0.9261 - val_loss: 0.1252\n",
      "Epoch 24/150\n",
      "\u001b[1m34/34\u001b[0m \u001b[32m━━━━━━━━━━━━━━━━━━━━\u001b[0m\u001b[37m\u001b[0m \u001b[1m0s\u001b[0m 2ms/step - accuracy: 0.9444 - loss: 0.1053 - val_accuracy: 0.9394 - val_loss: 0.1122\n",
      "Epoch 25/150\n",
      "\u001b[1m34/34\u001b[0m \u001b[32m━━━━━━━━━━━━━━━━━━━━\u001b[0m\u001b[37m\u001b[0m \u001b[1m0s\u001b[0m 3ms/step - accuracy: 0.9727 - loss: 0.0659 - val_accuracy: 0.9299 - val_loss: 0.1751\n",
      "Epoch 26/150\n",
      "\u001b[1m34/34\u001b[0m \u001b[32m━━━━━━━━━━━━━━━━━━━━\u001b[0m\u001b[37m\u001b[0m \u001b[1m0s\u001b[0m 2ms/step - accuracy: 0.9739 - loss: 0.0679 - val_accuracy: 0.9583 - val_loss: 0.0836\n",
      "Epoch 27/150\n",
      "\u001b[1m34/34\u001b[0m \u001b[32m━━━━━━━━━━━━━━━━━━━━\u001b[0m\u001b[37m\u001b[0m \u001b[1m0s\u001b[0m 2ms/step - accuracy: 0.9702 - loss: 0.0683 - val_accuracy: 0.9299 - val_loss: 0.1457\n",
      "Epoch 28/150\n",
      "\u001b[1m34/34\u001b[0m \u001b[32m━━━━━━━━━━━━━━━━━━━━\u001b[0m\u001b[37m\u001b[0m \u001b[1m0s\u001b[0m 2ms/step - accuracy: 0.9626 - loss: 0.0791 - val_accuracy: 0.9299 - val_loss: 0.1656\n",
      "Epoch 29/150\n",
      "\u001b[1m34/34\u001b[0m \u001b[32m━━━━━━━━━━━━━━━━━━━━\u001b[0m\u001b[37m\u001b[0m \u001b[1m0s\u001b[0m 2ms/step - accuracy: 0.9711 - loss: 0.0573 - val_accuracy: 0.9413 - val_loss: 0.1124\n",
      "Epoch 30/150\n",
      "\u001b[1m34/34\u001b[0m \u001b[32m━━━━━━━━━━━━━━━━━━━━\u001b[0m\u001b[37m\u001b[0m \u001b[1m0s\u001b[0m 3ms/step - accuracy: 0.9740 - loss: 0.0718 - val_accuracy: 0.9564 - val_loss: 0.0770\n",
      "Epoch 31/150\n",
      "\u001b[1m34/34\u001b[0m \u001b[32m━━━━━━━━━━━━━━━━━━━━\u001b[0m\u001b[37m\u001b[0m \u001b[1m0s\u001b[0m 2ms/step - accuracy: 0.9675 - loss: 0.0706 - val_accuracy: 0.9451 - val_loss: 0.0975\n",
      "Epoch 32/150\n",
      "\u001b[1m34/34\u001b[0m \u001b[32m━━━━━━━━━━━━━━━━━━━━\u001b[0m\u001b[37m\u001b[0m \u001b[1m0s\u001b[0m 3ms/step - accuracy: 0.9695 - loss: 0.0632 - val_accuracy: 0.9754 - val_loss: 0.0700\n",
      "Epoch 33/150\n",
      "\u001b[1m34/34\u001b[0m \u001b[32m━━━━━━━━━━━━━━━━━━━━\u001b[0m\u001b[37m\u001b[0m \u001b[1m0s\u001b[0m 2ms/step - accuracy: 0.9736 - loss: 0.0623 - val_accuracy: 0.9432 - val_loss: 0.0855\n",
      "Epoch 34/150\n",
      "\u001b[1m34/34\u001b[0m \u001b[32m━━━━━━━━━━━━━━━━━━━━\u001b[0m\u001b[37m\u001b[0m \u001b[1m0s\u001b[0m 2ms/step - accuracy: 0.9634 - loss: 0.0773 - val_accuracy: 0.9754 - val_loss: 0.0681\n",
      "Epoch 35/150\n",
      "\u001b[1m34/34\u001b[0m \u001b[32m━━━━━━━━━━━━━━━━━━━━\u001b[0m\u001b[37m\u001b[0m \u001b[1m0s\u001b[0m 2ms/step - accuracy: 0.9766 - loss: 0.0529 - val_accuracy: 0.9564 - val_loss: 0.0791\n",
      "Epoch 36/150\n",
      "\u001b[1m34/34\u001b[0m \u001b[32m━━━━━━━━━━━━━━━━━━━━\u001b[0m\u001b[37m\u001b[0m \u001b[1m0s\u001b[0m 2ms/step - accuracy: 0.9706 - loss: 0.0555 - val_accuracy: 0.9432 - val_loss: 0.0956\n",
      "Epoch 37/150\n",
      "\u001b[1m34/34\u001b[0m \u001b[32m━━━━━━━━━━━━━━━━━━━━\u001b[0m\u001b[37m\u001b[0m \u001b[1m0s\u001b[0m 2ms/step - accuracy: 0.9688 - loss: 0.0582 - val_accuracy: 0.9337 - val_loss: 0.1403\n",
      "Epoch 38/150\n",
      "\u001b[1m34/34\u001b[0m \u001b[32m━━━━━━━━━━━━━━━━━━━━\u001b[0m\u001b[37m\u001b[0m \u001b[1m0s\u001b[0m 2ms/step - accuracy: 0.9793 - loss: 0.0541 - val_accuracy: 0.9337 - val_loss: 0.1501\n",
      "Epoch 39/150\n",
      "\u001b[1m34/34\u001b[0m \u001b[32m━━━━━━━━━━━━━━━━━━━━\u001b[0m\u001b[37m\u001b[0m \u001b[1m0s\u001b[0m 2ms/step - accuracy: 0.9795 - loss: 0.0528 - val_accuracy: 0.9337 - val_loss: 0.1311\n",
      "Epoch 40/150\n",
      "\u001b[1m34/34\u001b[0m \u001b[32m━━━━━━━━━━━━━━━━━━━━\u001b[0m\u001b[37m\u001b[0m \u001b[1m0s\u001b[0m 2ms/step - accuracy: 0.9844 - loss: 0.0479 - val_accuracy: 0.9129 - val_loss: 0.1950\n",
      "Epoch 41/150\n",
      "\u001b[1m34/34\u001b[0m \u001b[32m━━━━━━━━━━━━━━━━━━━━\u001b[0m\u001b[37m\u001b[0m \u001b[1m0s\u001b[0m 2ms/step - accuracy: 0.9794 - loss: 0.0561 - val_accuracy: 0.9924 - val_loss: 0.0376\n",
      "Epoch 42/150\n",
      "\u001b[1m34/34\u001b[0m \u001b[32m━━━━━━━━━━━━━━━━━━━━\u001b[0m\u001b[37m\u001b[0m \u001b[1m0s\u001b[0m 2ms/step - accuracy: 0.9778 - loss: 0.0478 - val_accuracy: 0.9186 - val_loss: 0.1920\n",
      "Epoch 43/150\n",
      "\u001b[1m34/34\u001b[0m \u001b[32m━━━━━━━━━━━━━━━━━━━━\u001b[0m\u001b[37m\u001b[0m \u001b[1m0s\u001b[0m 2ms/step - accuracy: 0.9755 - loss: 0.0524 - val_accuracy: 0.9375 - val_loss: 0.0995\n",
      "Epoch 44/150\n",
      "\u001b[1m34/34\u001b[0m \u001b[32m━━━━━━━━━━━━━━━━━━━━\u001b[0m\u001b[37m\u001b[0m \u001b[1m0s\u001b[0m 2ms/step - accuracy: 0.9790 - loss: 0.0535 - val_accuracy: 0.9337 - val_loss: 0.1618\n",
      "Epoch 45/150\n",
      "\u001b[1m34/34\u001b[0m \u001b[32m━━━━━━━━━━━━━━━━━━━━\u001b[0m\u001b[37m\u001b[0m \u001b[1m0s\u001b[0m 2ms/step - accuracy: 0.9873 - loss: 0.0351 - val_accuracy: 0.9337 - val_loss: 0.1596\n",
      "Epoch 46/150\n",
      "\u001b[1m34/34\u001b[0m \u001b[32m━━━━━━━━━━━━━━━━━━━━\u001b[0m\u001b[37m\u001b[0m \u001b[1m0s\u001b[0m 2ms/step - accuracy: 0.9778 - loss: 0.0450 - val_accuracy: 0.9773 - val_loss: 0.0433\n",
      "Epoch 47/150\n",
      "\u001b[1m34/34\u001b[0m \u001b[32m━━━━━━━━━━━━━━━━━━━━\u001b[0m\u001b[37m\u001b[0m \u001b[1m0s\u001b[0m 2ms/step - accuracy: 0.9855 - loss: 0.0409 - val_accuracy: 0.9337 - val_loss: 0.1746\n",
      "Epoch 48/150\n",
      "\u001b[1m34/34\u001b[0m \u001b[32m━━━━━━━━━━━━━━━━━━━━\u001b[0m\u001b[37m\u001b[0m \u001b[1m0s\u001b[0m 2ms/step - accuracy: 0.9784 - loss: 0.0456 - val_accuracy: 0.9924 - val_loss: 0.0275\n",
      "Epoch 49/150\n",
      "\u001b[1m34/34\u001b[0m \u001b[32m━━━━━━━━━━━━━━━━━━━━\u001b[0m\u001b[37m\u001b[0m \u001b[1m0s\u001b[0m 2ms/step - accuracy: 0.9788 - loss: 0.0577 - val_accuracy: 0.9432 - val_loss: 0.1203\n",
      "Epoch 50/150\n",
      "\u001b[1m34/34\u001b[0m \u001b[32m━━━━━━━━━━━━━━━━━━━━\u001b[0m\u001b[37m\u001b[0m \u001b[1m0s\u001b[0m 2ms/step - accuracy: 0.9830 - loss: 0.0372 - val_accuracy: 0.9432 - val_loss: 0.1050\n",
      "Epoch 51/150\n",
      "\u001b[1m34/34\u001b[0m \u001b[32m━━━━━━━━━━━━━━━━━━━━\u001b[0m\u001b[37m\u001b[0m \u001b[1m0s\u001b[0m 2ms/step - accuracy: 0.9856 - loss: 0.0310 - val_accuracy: 0.9470 - val_loss: 0.0932\n",
      "Epoch 52/150\n",
      "\u001b[1m34/34\u001b[0m \u001b[32m━━━━━━━━━━━━━━━━━━━━\u001b[0m\u001b[37m\u001b[0m \u001b[1m0s\u001b[0m 2ms/step - accuracy: 0.9765 - loss: 0.0566 - val_accuracy: 0.9564 - val_loss: 0.0715\n",
      "Epoch 53/150\n",
      "\u001b[1m34/34\u001b[0m \u001b[32m━━━━━━━━━━━━━━━━━━━━\u001b[0m\u001b[37m\u001b[0m \u001b[1m0s\u001b[0m 2ms/step - accuracy: 0.9791 - loss: 0.0439 - val_accuracy: 0.9356 - val_loss: 0.1469\n",
      "Epoch 54/150\n",
      "\u001b[1m34/34\u001b[0m \u001b[32m━━━━━━━━━━━━━━━━━━━━\u001b[0m\u001b[37m\u001b[0m \u001b[1m0s\u001b[0m 2ms/step - accuracy: 0.9895 - loss: 0.0328 - val_accuracy: 0.9943 - val_loss: 0.0219\n",
      "Epoch 55/150\n",
      "\u001b[1m34/34\u001b[0m \u001b[32m━━━━━━━━━━━━━━━━━━━━\u001b[0m\u001b[37m\u001b[0m \u001b[1m0s\u001b[0m 2ms/step - accuracy: 0.9747 - loss: 0.0721 - val_accuracy: 0.9299 - val_loss: 0.2291\n",
      "Epoch 56/150\n",
      "\u001b[1m34/34\u001b[0m \u001b[32m━━━━━━━━━━━━━━━━━━━━\u001b[0m\u001b[37m\u001b[0m \u001b[1m0s\u001b[0m 3ms/step - accuracy: 0.9806 - loss: 0.0513 - val_accuracy: 0.9470 - val_loss: 0.1081\n",
      "Epoch 57/150\n",
      "\u001b[1m34/34\u001b[0m \u001b[32m━━━━━━━━━━━━━━━━━━━━\u001b[0m\u001b[37m\u001b[0m \u001b[1m0s\u001b[0m 3ms/step - accuracy: 0.9851 - loss: 0.0325 - val_accuracy: 0.9432 - val_loss: 0.1260\n",
      "Epoch 58/150\n",
      "\u001b[1m34/34\u001b[0m \u001b[32m━━━━━━━━━━━━━━━━━━━━\u001b[0m\u001b[37m\u001b[0m \u001b[1m0s\u001b[0m 2ms/step - accuracy: 0.9862 - loss: 0.0317 - val_accuracy: 0.9621 - val_loss: 0.0594\n",
      "Epoch 59/150\n",
      "\u001b[1m34/34\u001b[0m \u001b[32m━━━━━━━━━━━━━━━━━━━━\u001b[0m\u001b[37m\u001b[0m \u001b[1m0s\u001b[0m 2ms/step - accuracy: 0.9860 - loss: 0.0344 - val_accuracy: 0.9640 - val_loss: 0.0519\n",
      "Epoch 60/150\n",
      "\u001b[1m34/34\u001b[0m \u001b[32m━━━━━━━━━━━━━━━━━━━━\u001b[0m\u001b[37m\u001b[0m \u001b[1m0s\u001b[0m 3ms/step - accuracy: 0.9889 - loss: 0.0268 - val_accuracy: 0.9394 - val_loss: 0.1597\n",
      "Epoch 61/150\n",
      "\u001b[1m34/34\u001b[0m \u001b[32m━━━━━━━━━━━━━━━━━━━━\u001b[0m\u001b[37m\u001b[0m \u001b[1m0s\u001b[0m 2ms/step - accuracy: 0.9828 - loss: 0.0411 - val_accuracy: 0.9545 - val_loss: 0.0672\n",
      "Epoch 62/150\n",
      "\u001b[1m34/34\u001b[0m \u001b[32m━━━━━━━━━━━━━━━━━━━━\u001b[0m\u001b[37m\u001b[0m \u001b[1m0s\u001b[0m 2ms/step - accuracy: 0.9909 - loss: 0.0221 - val_accuracy: 0.9375 - val_loss: 0.1836\n",
      "Epoch 63/150\n",
      "\u001b[1m34/34\u001b[0m \u001b[32m━━━━━━━━━━━━━━━━━━━━\u001b[0m\u001b[37m\u001b[0m \u001b[1m0s\u001b[0m 2ms/step - accuracy: 0.9832 - loss: 0.0483 - val_accuracy: 0.9451 - val_loss: 0.0986\n",
      "Epoch 64/150\n",
      "\u001b[1m34/34\u001b[0m \u001b[32m━━━━━━━━━━━━━━━━━━━━\u001b[0m\u001b[37m\u001b[0m \u001b[1m0s\u001b[0m 2ms/step - accuracy: 0.9900 - loss: 0.0213 - val_accuracy: 0.9981 - val_loss: 0.0178\n",
      "Epoch 65/150\n",
      "\u001b[1m34/34\u001b[0m \u001b[32m━━━━━━━━━━━━━━━━━━━━\u001b[0m\u001b[37m\u001b[0m \u001b[1m0s\u001b[0m 2ms/step - accuracy: 0.9819 - loss: 0.0376 - val_accuracy: 0.9905 - val_loss: 0.0265\n",
      "Epoch 66/150\n",
      "\u001b[1m34/34\u001b[0m \u001b[32m━━━━━━━━━━━━━━━━━━━━\u001b[0m\u001b[37m\u001b[0m \u001b[1m0s\u001b[0m 2ms/step - accuracy: 0.9904 - loss: 0.0314 - val_accuracy: 0.9489 - val_loss: 0.1035\n",
      "Epoch 67/150\n",
      "\u001b[1m34/34\u001b[0m \u001b[32m━━━━━━━━━━━━━━━━━━━━\u001b[0m\u001b[37m\u001b[0m \u001b[1m0s\u001b[0m 2ms/step - accuracy: 0.9911 - loss: 0.0341 - val_accuracy: 0.9545 - val_loss: 0.0985\n",
      "Epoch 68/150\n",
      "\u001b[1m34/34\u001b[0m \u001b[32m━━━━━━━━━━━━━━━━━━━━\u001b[0m\u001b[37m\u001b[0m \u001b[1m0s\u001b[0m 2ms/step - accuracy: 0.9885 - loss: 0.0269 - val_accuracy: 0.9640 - val_loss: 0.0607\n",
      "Epoch 69/150\n",
      "\u001b[1m34/34\u001b[0m \u001b[32m━━━━━━━━━━━━━━━━━━━━\u001b[0m\u001b[37m\u001b[0m \u001b[1m0s\u001b[0m 2ms/step - accuracy: 0.9857 - loss: 0.0276 - val_accuracy: 0.9432 - val_loss: 0.1540\n",
      "Epoch 70/150\n",
      "\u001b[1m34/34\u001b[0m \u001b[32m━━━━━━━━━━━━━━━━━━━━\u001b[0m\u001b[37m\u001b[0m \u001b[1m0s\u001b[0m 2ms/step - accuracy: 0.9838 - loss: 0.0327 - val_accuracy: 0.9621 - val_loss: 0.0658\n",
      "Epoch 71/150\n",
      "\u001b[1m34/34\u001b[0m \u001b[32m━━━━━━━━━━━━━━━━━━━━\u001b[0m\u001b[37m\u001b[0m \u001b[1m0s\u001b[0m 2ms/step - accuracy: 0.9912 - loss: 0.0229 - val_accuracy: 0.9886 - val_loss: 0.0263\n",
      "Epoch 72/150\n",
      "\u001b[1m34/34\u001b[0m \u001b[32m━━━━━━━━━━━━━━━━━━━━\u001b[0m\u001b[37m\u001b[0m \u001b[1m0s\u001b[0m 3ms/step - accuracy: 0.9925 - loss: 0.0203 - val_accuracy: 0.9470 - val_loss: 0.1091\n",
      "Epoch 73/150\n",
      "\u001b[1m34/34\u001b[0m \u001b[32m━━━━━━━━━━━━━━━━━━━━\u001b[0m\u001b[37m\u001b[0m \u001b[1m0s\u001b[0m 2ms/step - accuracy: 0.9881 - loss: 0.0276 - val_accuracy: 0.9867 - val_loss: 0.0239\n",
      "Epoch 74/150\n",
      "\u001b[1m34/34\u001b[0m \u001b[32m━━━━━━━━━━━━━━━━━━━━\u001b[0m\u001b[37m\u001b[0m \u001b[1m0s\u001b[0m 2ms/step - accuracy: 0.9888 - loss: 0.0276 - val_accuracy: 0.9489 - val_loss: 0.1172\n",
      "Epoch 75/150\n",
      "\u001b[1m34/34\u001b[0m \u001b[32m━━━━━━━━━━━━━━━━━━━━\u001b[0m\u001b[37m\u001b[0m \u001b[1m0s\u001b[0m 2ms/step - accuracy: 0.9873 - loss: 0.0257 - val_accuracy: 0.9640 - val_loss: 0.0734\n",
      "Epoch 76/150\n",
      "\u001b[1m34/34\u001b[0m \u001b[32m━━━━━━━━━━━━━━━━━━━━\u001b[0m\u001b[37m\u001b[0m \u001b[1m0s\u001b[0m 2ms/step - accuracy: 0.9905 - loss: 0.0286 - val_accuracy: 0.9962 - val_loss: 0.0218\n",
      "Epoch 77/150\n",
      "\u001b[1m34/34\u001b[0m \u001b[32m━━━━━━━━━━━━━━━━━━━━\u001b[0m\u001b[37m\u001b[0m \u001b[1m0s\u001b[0m 2ms/step - accuracy: 0.9830 - loss: 0.0343 - val_accuracy: 0.9451 - val_loss: 0.1369\n",
      "Epoch 78/150\n",
      "\u001b[1m34/34\u001b[0m \u001b[32m━━━━━━━━━━━━━━━━━━━━\u001b[0m\u001b[37m\u001b[0m \u001b[1m0s\u001b[0m 3ms/step - accuracy: 0.9889 - loss: 0.0278 - val_accuracy: 0.9943 - val_loss: 0.0209\n",
      "Epoch 79/150\n",
      "\u001b[1m34/34\u001b[0m \u001b[32m━━━━━━━━━━━━━━━━━━━━\u001b[0m\u001b[37m\u001b[0m \u001b[1m0s\u001b[0m 2ms/step - accuracy: 0.9769 - loss: 0.0513 - val_accuracy: 0.9545 - val_loss: 0.0629\n",
      "Epoch 80/150\n",
      "\u001b[1m34/34\u001b[0m \u001b[32m━━━━━━━━━━━━━━━━━━━━\u001b[0m\u001b[37m\u001b[0m \u001b[1m0s\u001b[0m 2ms/step - accuracy: 0.9901 - loss: 0.0220 - val_accuracy: 1.0000 - val_loss: 0.0152\n",
      "Epoch 81/150\n",
      "\u001b[1m34/34\u001b[0m \u001b[32m━━━━━━━━━━━━━━━━━━━━\u001b[0m\u001b[37m\u001b[0m \u001b[1m0s\u001b[0m 2ms/step - accuracy: 0.9830 - loss: 0.0400 - val_accuracy: 0.9640 - val_loss: 0.0537\n",
      "Epoch 82/150\n",
      "\u001b[1m34/34\u001b[0m \u001b[32m━━━━━━━━━━━━━━━━━━━━\u001b[0m\u001b[37m\u001b[0m \u001b[1m0s\u001b[0m 2ms/step - accuracy: 0.9915 - loss: 0.0230 - val_accuracy: 0.9489 - val_loss: 0.1022\n",
      "Epoch 83/150\n",
      "\u001b[1m34/34\u001b[0m \u001b[32m━━━━━━━━━━━━━━━━━━━━\u001b[0m\u001b[37m\u001b[0m \u001b[1m0s\u001b[0m 2ms/step - accuracy: 0.9965 - loss: 0.0161 - val_accuracy: 0.9470 - val_loss: 0.1222\n",
      "Epoch 84/150\n",
      "\u001b[1m34/34\u001b[0m \u001b[32m━━━━━━━━━━━━━━━━━━━━\u001b[0m\u001b[37m\u001b[0m \u001b[1m0s\u001b[0m 2ms/step - accuracy: 0.9934 - loss: 0.0204 - val_accuracy: 0.9545 - val_loss: 0.0670\n",
      "Epoch 85/150\n",
      "\u001b[1m34/34\u001b[0m \u001b[32m━━━━━━━━━━━━━━━━━━━━\u001b[0m\u001b[37m\u001b[0m \u001b[1m0s\u001b[0m 2ms/step - accuracy: 0.9858 - loss: 0.0272 - val_accuracy: 0.9527 - val_loss: 0.0783\n",
      "Epoch 86/150\n",
      "\u001b[1m34/34\u001b[0m \u001b[32m━━━━━━━━━━━━━━━━━━━━\u001b[0m\u001b[37m\u001b[0m \u001b[1m0s\u001b[0m 3ms/step - accuracy: 0.9953 - loss: 0.0186 - val_accuracy: 0.9962 - val_loss: 0.0150\n",
      "Epoch 87/150\n",
      "\u001b[1m34/34\u001b[0m \u001b[32m━━━━━━━━━━━━━━━━━━━━\u001b[0m\u001b[37m\u001b[0m \u001b[1m0s\u001b[0m 2ms/step - accuracy: 0.9859 - loss: 0.0267 - val_accuracy: 0.9640 - val_loss: 0.0539\n",
      "Epoch 88/150\n",
      "\u001b[1m34/34\u001b[0m \u001b[32m━━━━━━━━━━━━━━━━━━━━\u001b[0m\u001b[37m\u001b[0m \u001b[1m0s\u001b[0m 2ms/step - accuracy: 0.9936 - loss: 0.0157 - val_accuracy: 0.9659 - val_loss: 0.0587\n",
      "Epoch 89/150\n",
      "\u001b[1m34/34\u001b[0m \u001b[32m━━━━━━━━━━━━━━━━━━━━\u001b[0m\u001b[37m\u001b[0m \u001b[1m0s\u001b[0m 2ms/step - accuracy: 0.9896 - loss: 0.0340 - val_accuracy: 0.9943 - val_loss: 0.0213\n",
      "Epoch 90/150\n",
      "\u001b[1m34/34\u001b[0m \u001b[32m━━━━━━━━━━━━━━━━━━━━\u001b[0m\u001b[37m\u001b[0m \u001b[1m0s\u001b[0m 2ms/step - accuracy: 0.9852 - loss: 0.0259 - val_accuracy: 0.9735 - val_loss: 0.0446\n",
      "Epoch 91/150\n",
      "\u001b[1m34/34\u001b[0m \u001b[32m━━━━━━━━━━━━━━━━━━━━\u001b[0m\u001b[37m\u001b[0m \u001b[1m0s\u001b[0m 2ms/step - accuracy: 0.9963 - loss: 0.0163 - val_accuracy: 0.9545 - val_loss: 0.0745\n",
      "Epoch 92/150\n",
      "\u001b[1m34/34\u001b[0m \u001b[32m━━━━━━━━━━━━━━━━━━━━\u001b[0m\u001b[37m\u001b[0m \u001b[1m0s\u001b[0m 2ms/step - accuracy: 0.9874 - loss: 0.0314 - val_accuracy: 0.9621 - val_loss: 0.0639\n",
      "Epoch 93/150\n",
      "\u001b[1m34/34\u001b[0m \u001b[32m━━━━━━━━━━━━━━━━━━━━\u001b[0m\u001b[37m\u001b[0m \u001b[1m0s\u001b[0m 2ms/step - accuracy: 0.9928 - loss: 0.0239 - val_accuracy: 0.9527 - val_loss: 0.0978\n",
      "Epoch 94/150\n",
      "\u001b[1m34/34\u001b[0m \u001b[32m━━━━━━━━━━━━━━━━━━━━\u001b[0m\u001b[37m\u001b[0m \u001b[1m0s\u001b[0m 2ms/step - accuracy: 0.9862 - loss: 0.0378 - val_accuracy: 0.9716 - val_loss: 0.0490\n",
      "Epoch 95/150\n",
      "\u001b[1m34/34\u001b[0m \u001b[32m━━━━━━━━━━━━━━━━━━━━\u001b[0m\u001b[37m\u001b[0m \u001b[1m0s\u001b[0m 3ms/step - accuracy: 0.9916 - loss: 0.0193 - val_accuracy: 0.9621 - val_loss: 0.0579\n",
      "Epoch 96/150\n",
      "\u001b[1m34/34\u001b[0m \u001b[32m━━━━━━━━━━━━━━━━━━━━\u001b[0m\u001b[37m\u001b[0m \u001b[1m0s\u001b[0m 2ms/step - accuracy: 0.9921 - loss: 0.0191 - val_accuracy: 0.9527 - val_loss: 0.0827\n",
      "Epoch 97/150\n",
      "\u001b[1m34/34\u001b[0m \u001b[32m━━━━━━━━━━━━━━━━━━━━\u001b[0m\u001b[37m\u001b[0m \u001b[1m0s\u001b[0m 2ms/step - accuracy: 0.9885 - loss: 0.0275 - val_accuracy: 0.9621 - val_loss: 0.0593\n",
      "Epoch 98/150\n",
      "\u001b[1m34/34\u001b[0m \u001b[32m━━━━━━━━━━━━━━━━━━━━\u001b[0m\u001b[37m\u001b[0m \u001b[1m0s\u001b[0m 2ms/step - accuracy: 0.9895 - loss: 0.0203 - val_accuracy: 0.9527 - val_loss: 0.0981\n",
      "Epoch 99/150\n",
      "\u001b[1m34/34\u001b[0m \u001b[32m━━━━━━━━━━━━━━━━━━━━\u001b[0m\u001b[37m\u001b[0m \u001b[1m0s\u001b[0m 2ms/step - accuracy: 0.9929 - loss: 0.0225 - val_accuracy: 0.9489 - val_loss: 0.1445\n",
      "Epoch 100/150\n",
      "\u001b[1m34/34\u001b[0m \u001b[32m━━━━━━━━━━━━━━━━━━━━\u001b[0m\u001b[37m\u001b[0m \u001b[1m0s\u001b[0m 2ms/step - accuracy: 0.9920 - loss: 0.0201 - val_accuracy: 0.9867 - val_loss: 0.0311\n",
      "Epoch 101/150\n",
      "\u001b[1m34/34\u001b[0m \u001b[32m━━━━━━━━━━━━━━━━━━━━\u001b[0m\u001b[37m\u001b[0m \u001b[1m0s\u001b[0m 3ms/step - accuracy: 0.9911 - loss: 0.0194 - val_accuracy: 0.9545 - val_loss: 0.0819\n",
      "Epoch 102/150\n",
      "\u001b[1m34/34\u001b[0m \u001b[32m━━━━━━━━━━━━━━━━━━━━\u001b[0m\u001b[37m\u001b[0m \u001b[1m0s\u001b[0m 2ms/step - accuracy: 0.9947 - loss: 0.0131 - val_accuracy: 0.9754 - val_loss: 0.0399\n",
      "Epoch 103/150\n",
      "\u001b[1m34/34\u001b[0m \u001b[32m━━━━━━━━━━━━━━━━━━━━\u001b[0m\u001b[37m\u001b[0m \u001b[1m0s\u001b[0m 2ms/step - accuracy: 0.9925 - loss: 0.0176 - val_accuracy: 0.9545 - val_loss: 0.0895\n",
      "Epoch 104/150\n",
      "\u001b[1m34/34\u001b[0m \u001b[32m━━━━━━━━━━━━━━━━━━━━\u001b[0m\u001b[37m\u001b[0m \u001b[1m0s\u001b[0m 2ms/step - accuracy: 0.9889 - loss: 0.0280 - val_accuracy: 0.9716 - val_loss: 0.0403\n",
      "Epoch 105/150\n",
      "\u001b[1m34/34\u001b[0m \u001b[32m━━━━━━━━━━━━━━━━━━━━\u001b[0m\u001b[37m\u001b[0m \u001b[1m0s\u001b[0m 2ms/step - accuracy: 0.9924 - loss: 0.0175 - val_accuracy: 0.9981 - val_loss: 0.0124\n",
      "Epoch 106/150\n",
      "\u001b[1m34/34\u001b[0m \u001b[32m━━━━━━━━━━━━━━━━━━━━\u001b[0m\u001b[37m\u001b[0m \u001b[1m0s\u001b[0m 2ms/step - accuracy: 0.9870 - loss: 0.0268 - val_accuracy: 0.9867 - val_loss: 0.0264\n",
      "Epoch 107/150\n",
      "\u001b[1m34/34\u001b[0m \u001b[32m━━━━━━━━━━━━━━━━━━━━\u001b[0m\u001b[37m\u001b[0m \u001b[1m0s\u001b[0m 2ms/step - accuracy: 0.9929 - loss: 0.0223 - val_accuracy: 0.9716 - val_loss: 0.0466\n",
      "Epoch 108/150\n",
      "\u001b[1m34/34\u001b[0m \u001b[32m━━━━━━━━━━━━━━━━━━━━\u001b[0m\u001b[37m\u001b[0m \u001b[1m0s\u001b[0m 2ms/step - accuracy: 0.9927 - loss: 0.0175 - val_accuracy: 0.9792 - val_loss: 0.0372\n",
      "Epoch 109/150\n",
      "\u001b[1m34/34\u001b[0m \u001b[32m━━━━━━━━━━━━━━━━━━━━\u001b[0m\u001b[37m\u001b[0m \u001b[1m0s\u001b[0m 2ms/step - accuracy: 0.9925 - loss: 0.0174 - val_accuracy: 0.9754 - val_loss: 0.0389\n",
      "Epoch 110/150\n",
      "\u001b[1m34/34\u001b[0m \u001b[32m━━━━━━━━━━━━━━━━━━━━\u001b[0m\u001b[37m\u001b[0m \u001b[1m0s\u001b[0m 3ms/step - accuracy: 0.9887 - loss: 0.0274 - val_accuracy: 0.9830 - val_loss: 0.0237\n",
      "Epoch 111/150\n",
      "\u001b[1m34/34\u001b[0m \u001b[32m━━━━━━━━━━━━━━━━━━━━\u001b[0m\u001b[37m\u001b[0m \u001b[1m0s\u001b[0m 2ms/step - accuracy: 0.9912 - loss: 0.0244 - val_accuracy: 0.9716 - val_loss: 0.0396\n",
      "Epoch 112/150\n",
      "\u001b[1m34/34\u001b[0m \u001b[32m━━━━━━━━━━━━━━━━━━━━\u001b[0m\u001b[37m\u001b[0m \u001b[1m0s\u001b[0m 2ms/step - accuracy: 0.9921 - loss: 0.0217 - val_accuracy: 0.9735 - val_loss: 0.0361\n",
      "Epoch 113/150\n",
      "\u001b[1m34/34\u001b[0m \u001b[32m━━━━━━━━━━━━━━━━━━━━\u001b[0m\u001b[37m\u001b[0m \u001b[1m0s\u001b[0m 2ms/step - accuracy: 0.9944 - loss: 0.0177 - val_accuracy: 0.9659 - val_loss: 0.0555\n",
      "Epoch 114/150\n",
      "\u001b[1m34/34\u001b[0m \u001b[32m━━━━━━━━━━━━━━━━━━━━\u001b[0m\u001b[37m\u001b[0m \u001b[1m0s\u001b[0m 2ms/step - accuracy: 0.9912 - loss: 0.0145 - val_accuracy: 0.9489 - val_loss: 0.1236\n",
      "Epoch 115/150\n",
      "\u001b[1m34/34\u001b[0m \u001b[32m━━━━━━━━━━━━━━━━━━━━\u001b[0m\u001b[37m\u001b[0m \u001b[1m0s\u001b[0m 2ms/step - accuracy: 0.9883 - loss: 0.0278 - val_accuracy: 0.9792 - val_loss: 0.0377\n",
      "Epoch 116/150\n",
      "\u001b[1m34/34\u001b[0m \u001b[32m━━━━━━━━━━━━━━━━━━━━\u001b[0m\u001b[37m\u001b[0m \u001b[1m0s\u001b[0m 2ms/step - accuracy: 0.9938 - loss: 0.0200 - val_accuracy: 0.9830 - val_loss: 0.0301\n",
      "Epoch 117/150\n",
      "\u001b[1m34/34\u001b[0m \u001b[32m━━━━━━━━━━━━━━━━━━━━\u001b[0m\u001b[37m\u001b[0m \u001b[1m0s\u001b[0m 3ms/step - accuracy: 0.9888 - loss: 0.0323 - val_accuracy: 0.9830 - val_loss: 0.0381\n",
      "Epoch 118/150\n",
      "\u001b[1m34/34\u001b[0m \u001b[32m━━━━━━━━━━━━━━━━━━━━\u001b[0m\u001b[37m\u001b[0m \u001b[1m0s\u001b[0m 2ms/step - accuracy: 0.9942 - loss: 0.0167 - val_accuracy: 0.9830 - val_loss: 0.0314\n",
      "Epoch 119/150\n",
      "\u001b[1m34/34\u001b[0m \u001b[32m━━━━━━━━━━━━━━━━━━━━\u001b[0m\u001b[37m\u001b[0m \u001b[1m0s\u001b[0m 2ms/step - accuracy: 0.9958 - loss: 0.0104 - val_accuracy: 0.9583 - val_loss: 0.0700\n",
      "Epoch 120/150\n",
      "\u001b[1m34/34\u001b[0m \u001b[32m━━━━━━━━━━━━━━━━━━━━\u001b[0m\u001b[37m\u001b[0m \u001b[1m0s\u001b[0m 2ms/step - accuracy: 0.9941 - loss: 0.0167 - val_accuracy: 0.9886 - val_loss: 0.0333\n",
      "Epoch 121/150\n",
      "\u001b[1m34/34\u001b[0m \u001b[32m━━━━━━━━━━━━━━━━━━━━\u001b[0m\u001b[37m\u001b[0m \u001b[1m0s\u001b[0m 2ms/step - accuracy: 0.9936 - loss: 0.0149 - val_accuracy: 0.9905 - val_loss: 0.0274\n",
      "Epoch 122/150\n",
      "\u001b[1m34/34\u001b[0m \u001b[32m━━━━━━━━━━━━━━━━━━━━\u001b[0m\u001b[37m\u001b[0m \u001b[1m0s\u001b[0m 3ms/step - accuracy: 0.9932 - loss: 0.0148 - val_accuracy: 0.9754 - val_loss: 0.0412\n",
      "Epoch 123/150\n",
      "\u001b[1m1/1\u001b[0m \u001b[32m━━━━━━━━━━━━━━━━━━━━\u001b[0m\u001b[37m\u001b[0m \u001b[1m0s\u001b[0m 29ms/stepracy: 1.0000 - loss: 5.7615e-0\n",
      "\u001b[1m34/34\u001b[0m \u001b[32m━━━━━━━━━━━━━━━━━━━━\u001b[0m\u001b[37m\u001b[0m \u001b[1m0s\u001b[0m 3ms/step - accuracy: 0.9931 - loss: 0.0179 - val_accuracy: 0.9943 - val_loss: 0.0189\n",
      "Epoch 124/150\n",
      "\u001b[1m34/34\u001b[0m \u001b[32m━━━━━━━━━━━━━━━━━━━━\u001b[0m\u001b[37m\u001b[0m \u001b[1m0s\u001b[0m 3ms/step - accuracy: 0.9935 - loss: 0.0165 - val_accuracy: 0.9981 - val_loss: 0.0157\n",
      "Epoch 125/150\n",
      "\u001b[1m34/34\u001b[0m \u001b[32m━━━━━━━━━━━━━━━━━━━━\u001b[0m\u001b[37m\u001b[0m \u001b[1m0s\u001b[0m 2ms/step - accuracy: 0.9914 - loss: 0.0179 - val_accuracy: 0.9811 - val_loss: 0.0359\n",
      "Epoch 126/150\n",
      "\u001b[1m34/34\u001b[0m \u001b[32m━━━━━━━━━━━━━━━━━━━━\u001b[0m\u001b[37m\u001b[0m \u001b[1m0s\u001b[0m 2ms/step - accuracy: 0.9882 - loss: 0.0283 - val_accuracy: 0.9678 - val_loss: 0.0593\n",
      "Epoch 127/150\n",
      "\u001b[1m34/34\u001b[0m \u001b[32m━━━━━━━━━━━━━━━━━━━━\u001b[0m\u001b[37m\u001b[0m \u001b[1m0s\u001b[0m 2ms/step - accuracy: 0.9938 - loss: 0.0140 - val_accuracy: 0.9697 - val_loss: 0.0444\n",
      "Epoch 128/150\n",
      "\u001b[1m34/34\u001b[0m \u001b[32m━━━━━━━━━━━━━━━━━━━━\u001b[0m\u001b[37m\u001b[0m \u001b[1m0s\u001b[0m 2ms/step - accuracy: 0.9910 - loss: 0.0247 - val_accuracy: 0.9451 - val_loss: 0.0974\n",
      "Epoch 129/150\n",
      "\u001b[1m34/34\u001b[0m \u001b[32m━━━━━━━━━━━━━━━━━━━━\u001b[0m\u001b[37m\u001b[0m \u001b[1m0s\u001b[0m 2ms/step - accuracy: 0.9908 - loss: 0.0178 - val_accuracy: 0.9905 - val_loss: 0.0158\n",
      "Epoch 130/150\n",
      "\u001b[1m34/34\u001b[0m \u001b[32m━━━━━━━━━━━━━━━━━━━━\u001b[0m\u001b[37m\u001b[0m \u001b[1m0s\u001b[0m 2ms/step - accuracy: 0.9941 - loss: 0.0169 - val_accuracy: 0.9981 - val_loss: 0.0099\n",
      "Epoch 131/150\n",
      "\u001b[1m34/34\u001b[0m \u001b[32m━━━━━━━━━━━━━━━━━━━━\u001b[0m\u001b[37m\u001b[0m \u001b[1m0s\u001b[0m 2ms/step - accuracy: 0.9829 - loss: 0.0336 - val_accuracy: 0.9602 - val_loss: 0.0683\n",
      "Epoch 132/150\n",
      "\u001b[1m34/34\u001b[0m \u001b[32m━━━━━━━━━━━━━━━━━━━━\u001b[0m\u001b[37m\u001b[0m \u001b[1m0s\u001b[0m 2ms/step - accuracy: 0.9904 - loss: 0.0165 - val_accuracy: 0.9981 - val_loss: 0.0117\n",
      "Epoch 133/150\n",
      "\u001b[1m34/34\u001b[0m \u001b[32m━━━━━━━━━━━━━━━━━━━━\u001b[0m\u001b[37m\u001b[0m \u001b[1m0s\u001b[0m 2ms/step - accuracy: 0.9962 - loss: 0.0179 - val_accuracy: 0.9811 - val_loss: 0.0345\n",
      "Epoch 134/150\n",
      "\u001b[1m34/34\u001b[0m \u001b[32m━━━━━━━━━━━━━━━━━━━━\u001b[0m\u001b[37m\u001b[0m \u001b[1m0s\u001b[0m 2ms/step - accuracy: 0.9970 - loss: 0.0111 - val_accuracy: 0.9886 - val_loss: 0.0272\n",
      "Epoch 135/150\n",
      "\u001b[1m34/34\u001b[0m \u001b[32m━━━━━━━━━━━━━━━━━━━━\u001b[0m\u001b[37m\u001b[0m \u001b[1m0s\u001b[0m 2ms/step - accuracy: 0.9977 - loss: 0.0060 - val_accuracy: 0.9981 - val_loss: 0.0044\n",
      "Epoch 136/150\n",
      "\u001b[1m34/34\u001b[0m \u001b[32m━━━━━━━━━━━━━━━━━━━━\u001b[0m\u001b[37m\u001b[0m \u001b[1m0s\u001b[0m 2ms/step - accuracy: 0.9936 - loss: 0.0169 - val_accuracy: 0.9848 - val_loss: 0.0236\n",
      "Epoch 137/150\n",
      "\u001b[1m34/34\u001b[0m \u001b[32m━━━━━━━━━━━━━━━━━━━━\u001b[0m\u001b[37m\u001b[0m \u001b[1m0s\u001b[0m 3ms/step - accuracy: 0.9961 - loss: 0.0073 - val_accuracy: 0.9830 - val_loss: 0.0417\n",
      "Epoch 138/150\n",
      "\u001b[1m34/34\u001b[0m \u001b[32m━━━━━━━━━━━━━━━━━━━━\u001b[0m\u001b[37m\u001b[0m \u001b[1m0s\u001b[0m 2ms/step - accuracy: 0.9904 - loss: 0.0174 - val_accuracy: 0.9924 - val_loss: 0.0191\n",
      "Epoch 139/150\n",
      "\u001b[1m34/34\u001b[0m \u001b[32m━━━━━━━━━━━━━━━━━━━━\u001b[0m\u001b[37m\u001b[0m \u001b[1m0s\u001b[0m 2ms/step - accuracy: 0.9973 - loss: 0.0092 - val_accuracy: 0.9678 - val_loss: 0.0528\n",
      "Epoch 140/150\n",
      "\u001b[1m34/34\u001b[0m \u001b[32m━━━━━━━━━━━━━━━━━━━━\u001b[0m\u001b[37m\u001b[0m \u001b[1m0s\u001b[0m 2ms/step - accuracy: 0.9913 - loss: 0.0139 - val_accuracy: 0.9924 - val_loss: 0.0209\n",
      "Epoch 141/150\n",
      "\u001b[1m34/34\u001b[0m \u001b[32m━━━━━━━━━━━━━━━━━━━━\u001b[0m\u001b[37m\u001b[0m \u001b[1m0s\u001b[0m 3ms/step - accuracy: 0.9972 - loss: 0.0114 - val_accuracy: 0.9867 - val_loss: 0.0219\n",
      "Epoch 142/150\n",
      "\u001b[1m34/34\u001b[0m \u001b[32m━━━━━━━━━━━━━━━━━━━━\u001b[0m\u001b[37m\u001b[0m \u001b[1m0s\u001b[0m 2ms/step - accuracy: 0.9889 - loss: 0.0272 - val_accuracy: 0.9792 - val_loss: 0.0349\n",
      "Epoch 143/150\n",
      "\u001b[1m34/34\u001b[0m \u001b[32m━━━━━━━━━━━━━━━━━━━━\u001b[0m\u001b[37m\u001b[0m \u001b[1m0s\u001b[0m 2ms/step - accuracy: 0.9945 - loss: 0.0098 - val_accuracy: 0.9830 - val_loss: 0.0266\n",
      "Epoch 144/150\n",
      "\u001b[1m34/34\u001b[0m \u001b[32m━━━━━━━━━━━━━━━━━━━━\u001b[0m\u001b[37m\u001b[0m \u001b[1m0s\u001b[0m 2ms/step - accuracy: 0.9929 - loss: 0.0232 - val_accuracy: 0.9640 - val_loss: 0.0676\n",
      "Epoch 145/150\n",
      "\u001b[1m34/34\u001b[0m \u001b[32m━━━━━━━━━━━━━━━━━━━━\u001b[0m\u001b[37m\u001b[0m \u001b[1m0s\u001b[0m 2ms/step - accuracy: 0.9954 - loss: 0.0107 - val_accuracy: 0.9962 - val_loss: 0.0143\n",
      "Epoch 146/150\n",
      "\u001b[1m34/34\u001b[0m \u001b[32m━━━━━━━━━━━━━━━━━━━━\u001b[0m\u001b[37m\u001b[0m \u001b[1m0s\u001b[0m 2ms/step - accuracy: 0.9915 - loss: 0.0155 - val_accuracy: 0.9981 - val_loss: 0.0047\n",
      "Epoch 147/150\n",
      "\u001b[1m34/34\u001b[0m \u001b[32m━━━━━━━━━━━━━━━━━━━━\u001b[0m\u001b[37m\u001b[0m \u001b[1m0s\u001b[0m 2ms/step - accuracy: 0.9925 - loss: 0.0114 - val_accuracy: 0.9962 - val_loss: 0.0106\n",
      "Epoch 148/150\n",
      "\u001b[1m34/34\u001b[0m \u001b[32m━━━━━━━━━━━━━━━━━━━━\u001b[0m\u001b[37m\u001b[0m \u001b[1m0s\u001b[0m 3ms/step - accuracy: 0.9895 - loss: 0.0214 - val_accuracy: 0.9981 - val_loss: 0.0149\n",
      "Epoch 149/150\n",
      "\u001b[1m34/34\u001b[0m \u001b[32m━━━━━━━━━━━━━━━━━━━━\u001b[0m\u001b[37m\u001b[0m \u001b[1m0s\u001b[0m 3ms/step - accuracy: 0.9875 - loss: 0.0393 - val_accuracy: 0.9905 - val_loss: 0.0218\n",
      "Epoch 150/150\n",
      "\u001b[1m34/34\u001b[0m \u001b[32m━━━━━━━━━━━━━━━━━━━━\u001b[0m\u001b[37m\u001b[0m \u001b[1m0s\u001b[0m 2ms/step - accuracy: 0.9968 - loss: 0.0087 - val_accuracy: 0.9981 - val_loss: 0.0090\n"
     ]
    },
    {
     "data": {
      "text/plain": [
       "<keras.src.callbacks.history.History at 0x1f21adcd5d0>"
      ]
     },
     "execution_count": 67,
     "metadata": {},
     "output_type": "execute_result"
    }
   ],
   "source": [
    "\n",
    "classifier.fit(X_train, y_train, epochs=150,validation_split=0.33, batch_size=32)"
   ]
  },
  {
   "cell_type": "code",
   "execution_count": 68,
   "metadata": {
    "id": "OLBOycWx94Lj"
   },
   "outputs": [
    {
     "name": "stdout",
     "output_type": "stream",
     "text": [
      "\u001b[1m13/13\u001b[0m \u001b[32m━━━━━━━━━━━━━━━━━━━━\u001b[0m\u001b[37m\u001b[0m \u001b[1m0s\u001b[0m 1ms/step - accuracy: 1.0000 - loss: 0.0062 \n"
     ]
    },
    {
     "data": {
      "text/plain": [
       "[0.005787115078419447, 1.0]"
      ]
     },
     "execution_count": 68,
     "metadata": {},
     "output_type": "execute_result"
    }
   ],
   "source": [
    "classifier.evaluate(X_test,y_test)"
   ]
  },
  {
   "cell_type": "code",
   "execution_count": 82,
   "metadata": {},
   "outputs": [],
   "source": [
    "import numpy as np\n",
    "def stress_level(h,t,s):\n",
    "    arr=np.array([[h,t,s]])\n",
    "    arr1 = sc.transform(arr) \n",
    "    \n",
    "    model=classifier.predict(arr1)\n",
    "    predict=np.array(model)\n",
    "    print(predict)\n",
    "    predict_index=np.argmax(predict)\n",
    "    \n",
    "    if(predict_index==0):\n",
    "        d=(\" Minimal Stress\\nDescription: At this level, you're feeling calm, relaxed, and in control. You're able to handle everyday challenges with ease and maintain a positive outlook on life.\\n\\nRecommendations:\\n\\n1Continue Healthy Habits: Keep up with your healthy lifestyle habits, including regular exercise, balanced nutrition, and sufficient sleep.\\n\\n2Practice Gratitude: Take time to appreciate the positive aspects of your life and express gratitude for them.\\n\\n3Engage in Relaxation: Incorporate relaxation techniques such as meditation, deep breathing exercises, or mindfulness practices to enhance your sense of calm.\\n\\n4Stay Connected: Maintain connections with friends, family, and supportive individuals to nurture your social support network.\\n\\n5Pursue Hobbies: Dedicate time to activities you enjoy and find fulfilling, whether it's a hobby, creative pursuit, or leisurely pastime\\n\")\n",
    "        return d\n",
    "        \n",
    "    elif(predict_index==1):\n",
    "        d=(\n",
    "    \"### Stress Level 1: Moderate Stress\\n\\n\"\n",
    "    \"Name: Coping Zone\\n\\n\"\n",
    "    \"Description: You're experiencing some mild stressors or challenges, but they're manageable and not overwhelming. \"\n",
    "    \"You may feel slightly tense or anxious at times, but it's not significantly impacting your overall well-being.\\n\\n\"\n",
    "    \"Recommendations:\\n\"\n",
    "    \"1. Identify Stressors: Identify the specific stressors contributing to your moderate stress level and consider strategies to address or mitigate them.\\n\"\n",
    "    \"2. Implement Stress Management Techniques: Continue practicing stress management techniques like deep breathing, progressive muscle relaxation, or guided imagery to reduce tension and promote relaxation.\\n\"\n",
    "    \"3. Set Realistic Goals: Break tasks into smaller, manageable steps and set realistic goals to prevent feeling overwhelmed.\\n\"\n",
    "    \"4. Seek Support: Reach out to friends, family, or a support group for encouragement, advice, or a listening ear.\\n\"\n",
    "    \"5. Practice Self-Compassion: Be kind to yourself and practice self-compassion during times of stress. Remember that it's okay to take breaks and prioritize self-care.\\n\"\n",
    "         )\n",
    "        return d\n",
    "    \n",
    "    elif(predict_index==2): \n",
    "        d=(\n",
    "    \"### Stress Level 2: High Stress\\n\\n\"\n",
    "    \"Name: Red Alert Zone\\n\\n\"\n",
    "    \"Description: Your stress levels are elevated, and you may be experiencing significant tension, anxiety, or overwhelm. \"\n",
    "    \"Daily functioning may feel challenging, and stressors may be impacting various areas of your life.\\n\\n\"\n",
    "    \"Recommendations:\\n\"\n",
    "    \"1. Seek Professional Help: Consider seeking support from a mental health professional, such as a therapist or counselor, to help you develop coping strategies and address underlying stressors.\\n\"\n",
    "    \"2. Practice Relaxation Techniques: Dedicate time each day to practice relaxation techniques, such as deep breathing exercises, meditation, or yoga, to reduce stress and promote relaxation.\\n\"\n",
    "    \"3. Set Boundaries: Establish clear boundaries in your personal and professional life to prevent further stressors and protect your well-being.\\n\"\n",
    "    \"4. Prioritize Self-Care: Make self-care a priority and engage in activities that promote relaxation, enjoyment, and rejuvenation.\\n\"\n",
    "    \"5. Delegate Tasks: If possible, delegate tasks or responsibilities to others to lighten your load and reduce feelings of overwhelm.\\n\"\n",
    "    )\n",
    "        return d\n",
    "       \n",
    "        \n"
   ]
  },
  {
   "cell_type": "code",
   "execution_count": 7,
   "metadata": {},
   "outputs": [
    {
     "name": "stdout",
     "output_type": "stream",
     "text": [
      "Running on local URL:  http://127.0.0.1:7860\n",
      "\n",
      "To create a public link, set `share=True` in `launch()`.\n"
     ]
    },
    {
     "data": {
      "text/html": [
       "<div><iframe src=\"http://127.0.0.1:7860/\" width=\"100%\" height=\"500\" allow=\"autoplay; camera; microphone; clipboard-read; clipboard-write;\" frameborder=\"0\" allowfullscreen></iframe></div>"
      ],
      "text/plain": [
       "<IPython.core.display.HTML object>"
      ]
     },
     "metadata": {},
     "output_type": "display_data"
    },
    {
     "data": {
      "text/plain": []
     },
     "execution_count": 7,
     "metadata": {},
     "output_type": "execute_result"
    },
    {
     "name": "stderr",
     "output_type": "stream",
     "text": [
      "Traceback (most recent call last):\n",
      "  File \"C:\\Users\\Divyansh\\AppData\\Roaming\\Python\\Python311\\site-packages\\gradio\\queueing.py\", line 501, in call_prediction\n",
      "    output = await route_utils.call_process_api(\n",
      "             ^^^^^^^^^^^^^^^^^^^^^^^^^^^^^^^^^^^\n",
      "  File \"C:\\Users\\Divyansh\\AppData\\Roaming\\Python\\Python311\\site-packages\\gradio\\route_utils.py\", line 253, in call_process_api\n",
      "    output = await app.get_blocks().process_api(\n",
      "             ^^^^^^^^^^^^^^^^^^^^^^^^^^^^^^^^^^^\n",
      "  File \"C:\\Users\\Divyansh\\AppData\\Roaming\\Python\\Python311\\site-packages\\gradio\\blocks.py\", line 1695, in process_api\n",
      "    result = await self.call_function(\n",
      "             ^^^^^^^^^^^^^^^^^^^^^^^^^\n",
      "  File \"C:\\Users\\Divyansh\\AppData\\Roaming\\Python\\Python311\\site-packages\\gradio\\blocks.py\", line 1235, in call_function\n",
      "    prediction = await anyio.to_thread.run_sync(\n",
      "                 ^^^^^^^^^^^^^^^^^^^^^^^^^^^^^^^\n",
      "  File \"C:\\Users\\Divyansh\\AppData\\Roaming\\Python\\Python311\\site-packages\\anyio\\to_thread.py\", line 56, in run_sync\n",
      "    return await get_async_backend().run_sync_in_worker_thread(\n",
      "           ^^^^^^^^^^^^^^^^^^^^^^^^^^^^^^^^^^^^^^^^^^^^^^^^^^^^\n",
      "  File \"C:\\Users\\Divyansh\\AppData\\Roaming\\Python\\Python311\\site-packages\\anyio\\_backends\\_asyncio.py\", line 2144, in run_sync_in_worker_thread\n",
      "    return await future\n",
      "           ^^^^^^^^^^^^\n",
      "  File \"C:\\Users\\Divyansh\\AppData\\Roaming\\Python\\Python311\\site-packages\\anyio\\_backends\\_asyncio.py\", line 851, in run\n",
      "    result = context.run(func, *args)\n",
      "             ^^^^^^^^^^^^^^^^^^^^^^^^\n",
      "  File \"C:\\Users\\Divyansh\\AppData\\Roaming\\Python\\Python311\\site-packages\\gradio\\utils.py\", line 692, in wrapper\n",
      "    response = f(*args, **kwargs)\n",
      "               ^^^^^^^^^^^^^^^^^^\n",
      "  File \"C:\\Users\\Divyansh\\AppData\\Local\\Temp\\ipykernel_4804\\1673478827.py\", line 4, in stress_level\n",
      "    arr1 = sc.transform(arr)\n",
      "          ^^\n",
      "NameError: name 'sc' is not defined\n"
     ]
    }
   ],
   "source": [
    "import gradio as gd\n",
    "headline=\"STRESS MONITORING\"\n",
    "description=\"monitor your stress \"\n",
    "i=[\n",
    "gd.Number(label=\"HUMIDITY\"),\n",
    "gd.Number(label=\"TEMPRATURE\"),\n",
    "gd.Number(label=\"STEP COUNT\")\n",
    "]\n",
    "o=gd.Textbox(label=\"RECOMMENDATIONS\")\n",
    "interface=gd.Interface(\n",
    "    fn=stress_level,inputs=i,outputs=o,title=headline,description=description)\n",
    "interface.launch()\n"
   ]
  },
  {
   "cell_type": "code",
   "execution_count": 14,
   "metadata": {},
   "outputs": [],
   "source": [
    "from keras.models import load_model"
   ]
  },
  {
   "cell_type": "code",
   "execution_count": 25,
   "metadata": {},
   "outputs": [],
   "source": [
    "x=load_model(r\"C:\\Users\\Divyansh\\Desktop\\ML PROJECT EASY\\stress.keras\")"
   ]
  },
  {
   "cell_type": "code",
   "execution_count": 26,
   "metadata": {},
   "outputs": [],
   "source": [
    "import numpy as np\n",
    "from sklearn.preprocessing import StandardScaler\n",
    "def stress_level1(h,t,s):\n",
    "    arr=np.array([[h,t,s]])\n",
    "    sc=StandardScaler()\n",
    "    arr1 = sc.fit_transform(arr) \n",
    "    \n",
    "    model=x.predict(arr1)\n",
    "    predict=np.array(model)\n",
    "    print(predict)\n",
    "    predict_index=np.argmax(predict)\n",
    "    \n",
    "    if(predict_index==0):\n",
    "        d=(\" Minimal Stress\\nDescription: At this level, you're feeling calm, relaxed, and in control. You're able to handle everyday challenges with ease and maintain a positive outlook on life.\\n\\nRecommendations:\\n\\n1Continue Healthy Habits: Keep up with your healthy lifestyle habits, including regular exercise, balanced nutrition, and sufficient sleep.\\n\\n2Practice Gratitude: Take time to appreciate the positive aspects of your life and express gratitude for them.\\n\\n3Engage in Relaxation: Incorporate relaxation techniques such as meditation, deep breathing exercises, or mindfulness practices to enhance your sense of calm.\\n\\n4Stay Connected: Maintain connections with friends, family, and supportive individuals to nurture your social support network.\\n\\n5Pursue Hobbies: Dedicate time to activities you enjoy and find fulfilling, whether it's a hobby, creative pursuit, or leisurely pastime\\n\")\n",
    "        return d\n",
    "        \n",
    "    elif(predict_index==1):\n",
    "        d=(\n",
    "    \"### Stress Level 1: Moderate Stress\\n\\n\"\n",
    "    \"Name: Coping Zone\\n\\n\"\n",
    "    \"Description: You're experiencing some mild stressors or challenges, but they're manageable and not overwhelming. \"\n",
    "    \"You may feel slightly tense or anxious at times, but it's not significantly impacting your overall well-being.\\n\\n\"\n",
    "    \"Recommendations:\\n\"\n",
    "    \"1. Identify Stressors: Identify the specific stressors contributing to your moderate stress level and consider strategies to address or mitigate them.\\n\"\n",
    "    \"2. Implement Stress Management Techniques: Continue practicing stress management techniques like deep breathing, progressive muscle relaxation, or guided imagery to reduce tension and promote relaxation.\\n\"\n",
    "    \"3. Set Realistic Goals: Break tasks into smaller, manageable steps and set realistic goals to prevent feeling overwhelmed.\\n\"\n",
    "    \"4. Seek Support: Reach out to friends, family, or a support group for encouragement, advice, or a listening ear.\\n\"\n",
    "    \"5. Practice Self-Compassion: Be kind to yourself and practice self-compassion during times of stress. Remember that it's okay to take breaks and prioritize self-care.\\n\"\n",
    "         )\n",
    "        return d\n",
    "    \n",
    "    elif(predict_index==2): \n",
    "        d=(\n",
    "    \"### Stress Level 2: High Stress\\n\\n\"\n",
    "    \"Name: Red Alert Zone\\n\\n\"\n",
    "    \"Description: Your stress levels are elevated, and you may be experiencing significant tension, anxiety, or overwhelm. \"\n",
    "    \"Daily functioning may feel challenging, and stressors may be impacting various areas of your life.\\n\\n\"\n",
    "    \"Recommendations:\\n\"\n",
    "    \"1. Seek Professional Help: Consider seeking support from a mental health professional, such as a therapist or counselor, to help you develop coping strategies and address underlying stressors.\\n\"\n",
    "    \"2. Practice Relaxation Techniques: Dedicate time each day to practice relaxation techniques, such as deep breathing exercises, meditation, or yoga, to reduce stress and promote relaxation.\\n\"\n",
    "    \"3. Set Boundaries: Establish clear boundaries in your personal and professional life to prevent further stressors and protect your well-being.\\n\"\n",
    "    \"4. Prioritize Self-Care: Make self-care a priority and engage in activities that promote relaxation, enjoyment, and rejuvenation.\\n\"\n",
    "    \"5. Delegate Tasks: If possible, delegate tasks or responsibilities to others to lighten your load and reduce feelings of overwhelm.\\n\"\n",
    "    )\n",
    "        return d\n",
    "       \n",
    "        \n"
   ]
  },
  {
   "cell_type": "code",
   "execution_count": 27,
   "metadata": {},
   "outputs": [
    {
     "name": "stdout",
     "output_type": "stream",
     "text": [
      "Running on local URL:  http://127.0.0.1:7872\n",
      "\n",
      "To create a public link, set `share=True` in `launch()`.\n"
     ]
    },
    {
     "data": {
      "text/html": [
       "<div><iframe src=\"http://127.0.0.1:7872/\" width=\"100%\" height=\"500\" allow=\"autoplay; camera; microphone; clipboard-read; clipboard-write;\" frameborder=\"0\" allowfullscreen></iframe></div>"
      ],
      "text/plain": [
       "<IPython.core.display.HTML object>"
      ]
     },
     "metadata": {},
     "output_type": "display_data"
    },
    {
     "data": {
      "text/plain": []
     },
     "execution_count": 27,
     "metadata": {},
     "output_type": "execute_result"
    },
    {
     "name": "stdout",
     "output_type": "stream",
     "text": [
      "\u001b[1m1/1\u001b[0m \u001b[32m━━━━━━━━━━━━━━━━━━━━\u001b[0m\u001b[37m\u001b[0m \u001b[1m0s\u001b[0m 51ms/step\n",
      "[[1.0550744e-05 9.9997628e-01 1.3208858e-05]]\n"
     ]
    }
   ],
   "source": [
    "import gradio as gd\n",
    "headline=\"STRESS MONITORING\"\n",
    "description=\"monitor your stress \"\n",
    "i=[\n",
    "gd.Number(label=\"HUMIDITY\"),\n",
    "gd.Number(label=\"TEMPRATURE(F)\"),\n",
    "gd.Number(label=\"STEP COUNT\")\n",
    "]\n",
    "o=gd.Textbox(label=\"RECOMMENDATIONS\")\n",
    "interface=gd.Interface(\n",
    "    fn=stress_level1,inputs=i,outputs=o,title=headline,description=description)\n",
    "interface.launch()\n"
   ]
  },
  {
   "cell_type": "code",
   "execution_count": null,
   "metadata": {},
   "outputs": [],
   "source": []
  }
 ],
 "metadata": {
  "colab": {
   "provenance": []
  },
  "kernelspec": {
   "display_name": "Python 3 (ipykernel)",
   "language": "python",
   "name": "python3"
  },
  "language_info": {
   "codemirror_mode": {
    "name": "ipython",
    "version": 3
   },
   "file_extension": ".py",
   "mimetype": "text/x-python",
   "name": "python",
   "nbconvert_exporter": "python",
   "pygments_lexer": "ipython3",
   "version": "3.11.5"
  }
 },
 "nbformat": 4,
 "nbformat_minor": 4
}
